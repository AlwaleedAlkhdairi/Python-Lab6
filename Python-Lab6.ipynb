{
 "cells": [
  {
   "cell_type": "markdown",
   "id": "7241fde0",
   "metadata": {},
   "source": [
    "# My Python Lab 6 : Dictionary\n",
    "Alwaleed Alkhdairi\n",
    "## Phone Book Program\n",
    "\n",
    "This is a phone book program that allows you to find the owner's name based on a given phone number. The program contains a pre-defined phone book with several entries.\n",
    "\n",
    "### Phone Book Entries\n",
    "| Name       | Number       |\n",
    "|------------|--------------|\n",
    "| Amal       | 1111111111   |\n",
    "| Mohammed   | 2222222222   |\n",
    "| Khadijah   | 3333333333   |\n",
    "| Abdullah   | 4444444444   |\n",
    "| Rawan      | 5555555555   |\n",
    "| Faisal     | 6666666666   |\n",
    "| Layla      | 7777777777   |\n",
    "\n",
    "### Program Instructions\n",
    "\n",
    "1. Run the program.\n",
    "2. Enter a 10-digit phone number to find the owner's name.\n",
    "3. If the entered number exists in the phone book, the program will print the name of the owner.\n",
    "4. If the entered number is not found in the phone book, the program will print \"Sorry, the number is not found\"\n",
    "5. If the entered number is not a valid 10-digit number, the program will print \"This is an invalid number\"\n",
    "6. If the number contains letters or symbols, the program will print \"This is an invalid number\"\n",
    "7. To quit the program, simply enter \"0\"."
   ]
  },
  {
   "cell_type": "code",
   "execution_count": 2,
   "id": "69eb6a19",
   "metadata": {},
   "outputs": [
    {
     "name": "stdout",
     "output_type": "stream",
     "text": [
      "Enter the phone number (Enter 0 to quit): 1\n",
      "This is invalid number\n",
      "Enter the phone number (Enter 0 to quit): 1234567891\n",
      "Sorry, the number is not found\n",
      "Enter the phone number (Enter 0 to quit): 1111111111\n",
      "The owner is Amal.\n",
      "Enter the phone number (Enter 0 to quit): 3333333333\n",
      "The owner is Khadijah.\n",
      "Enter the phone number (Enter 0 to quit): 5555555555\n",
      "The owner is Rawan.\n",
      "Enter the phone number (Enter 0 to quit): 7777777777\n",
      "The owner is Layla.\n",
      "Enter the phone number (Enter 0 to quit): 0\n"
     ]
    }
   ],
   "source": [
    "# Dictionary containing phone numbers and their corresponding owners\n",
    "PN = { '1111111111': 'Amal',\n",
    "       '2222222222': 'Mohammed',\n",
    "       '3333333333': 'Khadijah',\n",
    "       '4444444444': 'Abdullah',\n",
    "       '5555555555': 'Rawan',\n",
    "       '6666666666': 'Faisal',\n",
    "       '7777777777': 'Layla' }\n",
    "\n",
    "# Function to check the owner of a phone number\n",
    "def check_it(num):\n",
    "    # Check if the input is a valid 10-digit number\n",
    "    if not num.isdigit() or len(num) != 10:\n",
    "        return \"This is invalid number\"\n",
    "    \n",
    "    # Check if the number exists in the dictionary and return the owner if found\n",
    "    for key, value in PN.items():\n",
    "        if key == num:\n",
    "            return \"The owner is {}.\".format(value)\n",
    "\n",
    "    return \"Sorry, the number is not found\"\n",
    "\n",
    "# Main program loop\n",
    "while True:\n",
    "        phone_number = input(\"Enter the phone number (Enter 0 to quit): \")\n",
    "        if phone_number == \"0\":\n",
    "            break\n",
    "        \n",
    "            # Call the check_it function to get the result and print it\n",
    "        result = check_it(phone_number)\n",
    "        print(result)"
   ]
  }
 ],
 "metadata": {
  "kernelspec": {
   "display_name": "Python 3 (ipykernel)",
   "language": "python",
   "name": "python3"
  },
  "language_info": {
   "codemirror_mode": {
    "name": "ipython",
    "version": 3
   },
   "file_extension": ".py",
   "mimetype": "text/x-python",
   "name": "python",
   "nbconvert_exporter": "python",
   "pygments_lexer": "ipython3",
   "version": "3.9.13"
  }
 },
 "nbformat": 4,
 "nbformat_minor": 5
}
